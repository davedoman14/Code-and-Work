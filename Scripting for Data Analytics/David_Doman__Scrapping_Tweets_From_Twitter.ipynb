{
 "cells": [
  {
   "cell_type": "code",
   "execution_count": null,
   "metadata": {},
   "outputs": [],
   "source": [
    "##Homework 2##\n",
    "##IST652##\n",
    "##David Doman##"
   ]
  },
  {
   "cell_type": "code",
   "execution_count": 68,
   "metadata": {},
   "outputs": [],
   "source": [
    "import tweepy\n",
    "import json\n",
    "import sys\n",
    "from twitter_login_fn import oauth_login\n",
    "from twitter_login_fn import appauth_login\n",
    "from DB_fn import save_to_DB\n",
    "from DB_fn import load_from_DB"
   ]
  },
  {
   "cell_type": "code",
   "execution_count": 74,
   "metadata": {},
   "outputs": [],
   "source": [
    "# how to run above\n",
    "# result_tweets = simple_search(api, query, max_results=num_tweets)\n",
    "# print ('Number of result tweets: ', len(result_tweets))\n",
    "\n",
    "def run_simple_tweet_search(query, num_tweets, since, until, DBname, DBcollection):\n",
    "    # api = oauth_login()\n",
    "    ''' if needed switch to using the appauth login to avoid rate limiting '''\n",
    "    #api = appauth_login()\n",
    "    api = tw.API(auth, wait_on_rate_limit=True)\n",
    "\n",
    "    print (\"Twitter Authorization: \", api)\n",
    "    \n",
    "    # access Twitter search\n",
    "    result_tweets = simple_search(api, query, since, until, max_results=num_tweets)\n",
    "    tot_results = len(result_tweets)\n",
    "    print ('Number of result tweets: ', len(result_tweets))\n",
    "\n",
    "    # save the results in a database collection\n",
    "    #   change names to lowercase because they are not case sensitive\n",
    "    #   and remove special characters like hashtags and spaces (other special characters may also be forbidden)\n",
    "    DBname = DBname.lower()\n",
    "    DBname = DBname.replace('#', '')\n",
    "    DBname = DBname.replace(' ', '')\n",
    "    DBcollection = DBcollection.lower()\n",
    "    DBcollection = DBcollection.replace('#', '')\n",
    "    DBcollection = DBcollection.replace(' ', '')\n",
    "    \n",
    "    # use the save and load functions in this program\n",
    "    if tot_results > 0:\n",
    "        save_to_DB(DBname, DBcollection, result_tweets)\n",
    "    # Done!"
   ]
  },
  {
   "cell_type": "code",
   "execution_count": null,
   "metadata": {},
   "outputs": [],
   "source": []
  }
 ],
 "metadata": {
  "kernelspec": {
   "display_name": "Python 3",
   "language": "python",
   "name": "python3"
  },
  "language_info": {
   "codemirror_mode": {
    "name": "ipython",
    "version": 3
   },
   "file_extension": ".py",
   "mimetype": "text/x-python",
   "name": "python",
   "nbconvert_exporter": "python",
   "pygments_lexer": "ipython3",
   "version": "3.8.3"
  }
 },
 "nbformat": 4,
 "nbformat_minor": 4
}
